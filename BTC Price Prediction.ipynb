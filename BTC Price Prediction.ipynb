{
 "cells": [
  {
   "cell_type": "code",
   "execution_count": 13,
   "metadata": {},
   "outputs": [],
   "source": [
    "import pandas as pd\n",
    "import matplotlib.pyplot as plt\n",
    "import seaborn as sns\n",
    "import numpy as np\n",
    "from scipy.stats import norm\n",
    "import statistics\n",
    "import math\n",
    "from collections import deque\n",
    "\n",
    "\n",
    "plt.style.use(style=\"fivethirtyeight\")\n",
    "%matplotlib inline\n",
    "\n",
    "SEQ_LEN = 30  # how long of a preceeding sequence to collect for RNN\n",
    "FUTURE_PERIOD_PREDICT = 1  # how far into the future are we trying to predict"
   ]
  },
  {
   "cell_type": "code",
   "execution_count": 2,
   "metadata": {},
   "outputs": [],
   "source": [
    "btc_df = pd.read_csv(\"BTC-USD.csv\")"
   ]
  },
  {
   "cell_type": "code",
   "execution_count": 6,
   "metadata": {},
   "outputs": [],
   "source": [
    "# btc_df.head()\n",
    "# btc_df.info()"
   ]
  },
  {
   "cell_type": "markdown",
   "metadata": {},
   "source": [
    "## Clean the data"
   ]
  },
  {
   "cell_type": "code",
   "execution_count": 3,
   "metadata": {},
   "outputs": [
    {
     "name": "stdout",
     "output_type": "stream",
     "text": [
      "<class 'pandas.core.frame.DataFrame'>\n",
      "RangeIndex: 2488 entries, 0 to 2487\n",
      "Data columns (total 3 columns):\n",
      "Date      2488 non-null object\n",
      "Close     2488 non-null float64\n",
      "Volume    2488 non-null float64\n",
      "dtypes: float64(2), object(1)\n",
      "memory usage: 58.4+ KB\n"
     ]
    }
   ],
   "source": [
    "# remove unnecessary columns.\n",
    "btc_df.drop([\"Open\", \"High\", \"Low\", \"Adj Close\"], axis=1, inplace=True)\n",
    "# find rows with nan values\n",
    "btc_df[btc_df.isnull().any(axis=1)]\n",
    "# fill nan with previously known values.\n",
    "btc_df.fillna(method=\"ffill\", inplace=True)\n",
    "\n",
    "btc_df.info()"
   ]
  },
  {
   "cell_type": "markdown",
   "metadata": {},
   "source": [
    "## Plot the price over time"
   ]
  },
  {
   "cell_type": "code",
   "execution_count": 466,
   "metadata": {},
   "outputs": [
    {
     "data": {
      "text/plain": [
       "Text(0, 0.5, 'Close Price')"
      ]
     },
     "execution_count": 466,
     "metadata": {},
     "output_type": "execute_result"
    },
    {
     "data": {
      "image/png": "[encoded data removed]",
      "text/plain": [
       "<Figure size 792x288 with 1 Axes>"
      ]
     },
     "metadata": {
      "needs_background": "light"
     },
     "output_type": "display_data"
    }
   ],
   "source": [
    "fig, ax = plt.subplots(figsize=(11,4))\n",
    "btc_df.plot(x=\"Date\", y=\"Close\", ax=ax)\n",
    "ax.set_ylabel(\"Close Price\")"
   ]
  },
  {
   "cell_type": "markdown",
   "metadata": {},
   "source": [
    "## Add feature - Price Returns\n",
    "The percent change in price relative to the previous day"
   ]
  },
  {
   "cell_type": "code",
   "execution_count": 5,
   "metadata": {},
   "outputs": [
    {
     "data": {
      "text/html": [
       "<div>\n",
       "<style scoped>\n",
       "    .dataframe tbody tr th:only-of-type {\n",
       "        vertical-align: middle;\n",
       "    }\n",
       "\n",
       "    .dataframe tbody tr th {\n",
       "        vertical-align: top;\n",
       "    }\n",
       "\n",
       "    .dataframe thead th {\n",
       "        text-align: right;\n",
       "    }\n",
       "</style>\n",
       "<table border=\"1\" class=\"dataframe\">\n",
       "  <thead>\n",
       "    <tr style=\"text-align: right;\">\n",
       "      <th></th>\n",
       "      <th>Date</th>\n",
       "      <th>Close</th>\n",
       "      <th>Volume</th>\n",
       "      <th>Price Returns</th>\n",
       "    </tr>\n",
       "  </thead>\n",
       "  <tbody>\n",
       "    <tr>\n",
       "      <th>0</th>\n",
       "      <td>2014-09-17</td>\n",
       "      <td>457.334015</td>\n",
       "      <td>21056800.0</td>\n",
       "      <td>NaN</td>\n",
       "    </tr>\n",
       "    <tr>\n",
       "      <th>1</th>\n",
       "      <td>2014-09-18</td>\n",
       "      <td>424.440002</td>\n",
       "      <td>34483200.0</td>\n",
       "      <td>-0.071926</td>\n",
       "    </tr>\n",
       "    <tr>\n",
       "      <th>2</th>\n",
       "      <td>2014-09-19</td>\n",
       "      <td>394.795990</td>\n",
       "      <td>37919700.0</td>\n",
       "      <td>-0.069843</td>\n",
       "    </tr>\n",
       "    <tr>\n",
       "      <th>3</th>\n",
       "      <td>2014-09-20</td>\n",
       "      <td>408.903992</td>\n",
       "      <td>36863600.0</td>\n",
       "      <td>0.035735</td>\n",
       "    </tr>\n",
       "    <tr>\n",
       "      <th>4</th>\n",
       "      <td>2014-09-21</td>\n",
       "      <td>398.821014</td>\n",
       "      <td>26580100.0</td>\n",
       "      <td>-0.024659</td>\n",
       "    </tr>\n",
       "  </tbody>\n",
       "</table>\n",
       "</div>"
      ],
      "text/plain": [
       "         Date       Close      Volume  Price Returns\n",
       "0  2014-09-17  457.334015  21056800.0            NaN\n",
       "1  2014-09-18  424.440002  34483200.0      -0.071926\n",
       "2  2014-09-19  394.795990  37919700.0      -0.069843\n",
       "3  2014-09-20  408.903992  36863600.0       0.035735\n",
       "4  2014-09-21  398.821014  26580100.0      -0.024659"
      ]
     },
     "execution_count": 5,
     "metadata": {},
     "output_type": "execute_result"
    }
   ],
   "source": [
    "btc_df[\"Price Returns\"] = btc_df[\"Close\"].pct_change()\n",
    "btc_df.head()"
   ]
  },
  {
   "cell_type": "markdown",
   "metadata": {},
   "source": [
    "### Analize price returns"
   ]
  },
  {
   "cell_type": "code",
   "execution_count": 6,
   "metadata": {},
   "outputs": [
    {
     "data": {
      "text/plain": [
       "count    2487.000000\n",
       "mean        0.002502\n",
       "std         0.039258\n",
       "min        -0.371695\n",
       "25%        -0.012616\n",
       "50%         0.001988\n",
       "75%         0.018028\n",
       "max         0.252472\n",
       "Name: Price Returns, dtype: float64"
      ]
     },
     "execution_count": 6,
     "metadata": {},
     "output_type": "execute_result"
    }
   ],
   "source": [
    "btc_df[\"Price Returns\"].describe()"
   ]
  },
  {
   "cell_type": "code",
   "execution_count": 7,
   "metadata": {},
   "outputs": [
    {
     "data": {
      "text/plain": [
       "<matplotlib.axes._subplots.AxesSubplot at 0x11005bcf8>"
      ]
     },
     "execution_count": 7,
     "metadata": {},
     "output_type": "execute_result"
    },
    {
     "data": {
      "image/png": "[encoded data removed]",
      "text/plain": [
       "<Figure size 432x288 with 1 Axes>"
      ]
     },
     "metadata": {
      "needs_background": "light"
     },
     "output_type": "display_data"
    }
   ],
   "source": [
    "sns.boxplot(x=\"Price Returns\", data=btc_df, orient=\"v\")"
   ]
  },
  {
   "cell_type": "code",
   "execution_count": 8,
   "metadata": {},
   "outputs": [
    {
     "data": {
      "image/png": "[encoded data removed]",
      "text/plain": [
       "<Figure size 576x360 with 1 Axes>"
      ]
     },
     "metadata": {
      "needs_background": "light"
     },
     "output_type": "display_data"
    }
   ],
   "source": [
    "# Plot a histogram of price returns\n",
    "\n",
    "x = btc_df[\"Price Returns\"]\n",
    "\n",
    "num_bins = 60\n",
    "\n",
    "fig, ax = plt.subplots(figsize=(8,5))\n",
    "\n",
    "# the histogram of the data\n",
    "ax.hist(x, num_bins, density=True, range=(-0.2,0.2))\n",
    "\n",
    "# Compare to a normal distribution with the same mean and stdev.\n",
    "np.random.seed(196)\n",
    "x_axis = np.arange(-0.2, 0.2, 0.0001)\n",
    "mu = btc_df[\"Price Returns\"].mean()\n",
    "sigma = btc_df[\"Price Returns\"].std()\n",
    "\n",
    "y = norm.pdf(x_axis, mu, sigma)\n",
    "ax.plot(x_axis, y, '--', label=\"Normal dist\")\n",
    "ax.set_ylabel('Probability density')\n",
    "ax.set_title(f'Histogram of Price Returns: avg = {round(mu, 3)}, stdev = {round(sigma, 3)}')\n",
    "ax.legend(loc='best', frameon=False)\n",
    "fig.tight_layout()"
   ]
  },
  {
   "cell_type": "markdown",
   "metadata": {},
   "source": [
    "## Add logarithmic returns column and analyze\n",
    "**Usually more convient to work with (comparing to raw-returns) statistically and mathematically wise, algorithmicaly wise and more."
   ]
  },
  {
   "cell_type": "code",
   "execution_count": 9,
   "metadata": {},
   "outputs": [
    {
     "data": {
      "text/plain": [
       "<matplotlib.axes._subplots.AxesSubplot at 0x12f7100f0>"
      ]
     },
     "execution_count": 9,
     "metadata": {},
     "output_type": "execute_result"
    },
    {
     "data": {
      "image/png": "[encoded data removed]",
      "text/plain": [
       "<Figure size 432x288 with 1 Axes>"
      ]
     },
     "metadata": {
      "needs_background": "light"
     },
     "output_type": "display_data"
    }
   ],
   "source": [
    "btc_df[\"Log Returns\"] = np.log(1 + btc_df[\"Price Returns\"])\n",
    "# btc_df.head(10)\n",
    "sns.boxplot(x=\"Log Returns\", data=btc_df, orient='v')"
   ]
  },
  {
   "cell_type": "code",
   "execution_count": 10,
   "metadata": {},
   "outputs": [
    {
     "data": {
      "image/png": "[encoded data removed]",
      "text/plain": [
       "<Figure size 576x360 with 1 Axes>"
      ]
     },
     "metadata": {
      "needs_background": "light"
     },
     "output_type": "display_data"
    }
   ],
   "source": [
    "fig, ax = plt.subplots(figsize=(8,5))\n",
    "x = btc_df[\"Log Returns\"]\n",
    "\n",
    "# the histogram of the data\n",
    "ax.hist(x, num_bins, density=True, range=(-0.2,0.2))\n",
    "\n",
    "# Compare to a normal distribution\n",
    "mu = btc_df[\"Log Returns\"].mean()\n",
    "sigma = btc_df[\"Log Returns\"].std()\n",
    "\n",
    "y = norm.pdf(x_axis, mu, sigma)\n",
    "ax.plot(x_axis, y, '--', label=\"Normal dist\")\n",
    "ax.set_ylabel('Probability density')\n",
    "ax.set_title(f'Histogram of Log Returns: avg= {round(mu, 3)}, stdev = {round(sigma, 3)}')\n",
    "ax.legend(loc='best', frameon=False)\n",
    "fig.tight_layout()"
   ]
  },
  {
   "cell_type": "markdown",
   "metadata": {},
   "source": [
    "## Preprocess the data for the model"
   ]
  },
  {
   "cell_type": "markdown",
   "metadata": {},
   "source": [
    "### Add a \"Future\" price column for labeling"
   ]
  },
  {
   "cell_type": "code",
   "execution_count": 69,
   "metadata": {},
   "outputs": [
    {
     "data": {
      "text/html": [
       "<div>\n",
       "<style scoped>\n",
       "    .dataframe tbody tr th:only-of-type {\n",
       "        vertical-align: middle;\n",
       "    }\n",
       "\n",
       "    .dataframe tbody tr th {\n",
       "        vertical-align: top;\n",
       "    }\n",
       "\n",
       "    .dataframe thead th {\n",
       "        text-align: right;\n",
       "    }\n",
       "</style>\n",
       "<table border=\"1\" class=\"dataframe\">\n",
       "  <thead>\n",
       "    <tr style=\"text-align: right;\">\n",
       "      <th></th>\n",
       "      <th>Date</th>\n",
       "      <th>Close</th>\n",
       "      <th>Volume</th>\n",
       "      <th>Price Returns</th>\n",
       "      <th>Log Returns</th>\n",
       "      <th>Future</th>\n",
       "    </tr>\n",
       "  </thead>\n",
       "  <tbody>\n",
       "    <tr>\n",
       "      <th>0</th>\n",
       "      <td>2014-09-17</td>\n",
       "      <td>457.334015</td>\n",
       "      <td>21056800.0</td>\n",
       "      <td>NaN</td>\n",
       "      <td>NaN</td>\n",
       "      <td>424.440002</td>\n",
       "    </tr>\n",
       "    <tr>\n",
       "      <th>1</th>\n",
       "      <td>2014-09-18</td>\n",
       "      <td>424.440002</td>\n",
       "      <td>34483200.0</td>\n",
       "      <td>-0.071926</td>\n",
       "      <td>-0.074643</td>\n",
       "      <td>394.795990</td>\n",
       "    </tr>\n",
       "    <tr>\n",
       "      <th>2</th>\n",
       "      <td>2014-09-19</td>\n",
       "      <td>394.795990</td>\n",
       "      <td>37919700.0</td>\n",
       "      <td>-0.069843</td>\n",
       "      <td>-0.072402</td>\n",
       "      <td>408.903992</td>\n",
       "    </tr>\n",
       "    <tr>\n",
       "      <th>3</th>\n",
       "      <td>2014-09-20</td>\n",
       "      <td>408.903992</td>\n",
       "      <td>36863600.0</td>\n",
       "      <td>0.035735</td>\n",
       "      <td>0.035111</td>\n",
       "      <td>398.821014</td>\n",
       "    </tr>\n",
       "    <tr>\n",
       "      <th>4</th>\n",
       "      <td>2014-09-21</td>\n",
       "      <td>398.821014</td>\n",
       "      <td>26580100.0</td>\n",
       "      <td>-0.024659</td>\n",
       "      <td>-0.024968</td>\n",
       "      <td>402.152008</td>\n",
       "    </tr>\n",
       "  </tbody>\n",
       "</table>\n",
       "</div>"
      ],
      "text/plain": [
       "         Date       Close      Volume  Price Returns  Log Returns      Future\n",
       "0  2014-09-17  457.334015  21056800.0            NaN          NaN  424.440002\n",
       "1  2014-09-18  424.440002  34483200.0      -0.071926    -0.074643  394.795990\n",
       "2  2014-09-19  394.795990  37919700.0      -0.069843    -0.072402  408.903992\n",
       "3  2014-09-20  408.903992  36863600.0       0.035735     0.035111  398.821014\n",
       "4  2014-09-21  398.821014  26580100.0      -0.024659    -0.024968  402.152008"
      ]
     },
     "execution_count": 69,
     "metadata": {},
     "output_type": "execute_result"
    }
   ],
   "source": [
    "btc_df[\"Future\"] = btc_df[\"Close\"].shift(-FUTURE_PERIOD_PREDICT)\n",
    "btc_df.head()"
   ]
  },
  {
   "cell_type": "markdown",
   "metadata": {},
   "source": [
    "I'll be using only Close and Log Returns as the features for the sake of the demonstration, however many more features can be added based on this data set alone, for example we can use the volume (normalized - as we did with the price)."
   ]
  },
  {
   "cell_type": "code",
   "execution_count": 157,
   "metadata": {},
   "outputs": [
    {
     "data": {
      "text/html": [
       "<div>\n",
       "<style scoped>\n",
       "    .dataframe tbody tr th:only-of-type {\n",
       "        vertical-align: middle;\n",
       "    }\n",
       "\n",
       "    .dataframe tbody tr th {\n",
       "        vertical-align: top;\n",
       "    }\n",
       "\n",
       "    .dataframe thead th {\n",
       "        text-align: right;\n",
       "    }\n",
       "</style>\n",
       "<table border=\"1\" class=\"dataframe\">\n",
       "  <thead>\n",
       "    <tr style=\"text-align: right;\">\n",
       "      <th></th>\n",
       "      <th>Date</th>\n",
       "      <th>Close</th>\n",
       "      <th>Log Returns</th>\n",
       "      <th>Future</th>\n",
       "    </tr>\n",
       "  </thead>\n",
       "  <tbody>\n",
       "    <tr>\n",
       "      <th>1</th>\n",
       "      <td>2014-09-18</td>\n",
       "      <td>424.440002</td>\n",
       "      <td>-0.074643</td>\n",
       "      <td>394.795990</td>\n",
       "    </tr>\n",
       "    <tr>\n",
       "      <th>2</th>\n",
       "      <td>2014-09-19</td>\n",
       "      <td>394.795990</td>\n",
       "      <td>-0.072402</td>\n",
       "      <td>408.903992</td>\n",
       "    </tr>\n",
       "    <tr>\n",
       "      <th>3</th>\n",
       "      <td>2014-09-20</td>\n",
       "      <td>408.903992</td>\n",
       "      <td>0.035111</td>\n",
       "      <td>398.821014</td>\n",
       "    </tr>\n",
       "    <tr>\n",
       "      <th>4</th>\n",
       "      <td>2014-09-21</td>\n",
       "      <td>398.821014</td>\n",
       "      <td>-0.024968</td>\n",
       "      <td>402.152008</td>\n",
       "    </tr>\n",
       "    <tr>\n",
       "      <th>5</th>\n",
       "      <td>2014-09-22</td>\n",
       "      <td>402.152008</td>\n",
       "      <td>0.008317</td>\n",
       "      <td>435.790985</td>\n",
       "    </tr>\n",
       "  </tbody>\n",
       "</table>\n",
       "</div>"
      ],
      "text/plain": [
       "         Date       Close  Log Returns      Future\n",
       "1  2014-09-18  424.440002    -0.074643  394.795990\n",
       "2  2014-09-19  394.795990    -0.072402  408.903992\n",
       "3  2014-09-20  408.903992     0.035111  398.821014\n",
       "4  2014-09-21  398.821014    -0.024968  402.152008\n",
       "5  2014-09-22  402.152008     0.008317  435.790985"
      ]
     },
     "execution_count": 157,
     "metadata": {},
     "output_type": "execute_result"
    }
   ],
   "source": [
    "df = btc_df[[\"Date\",\"Close\", \"Log Returns\", \"Future\"]].copy()\n",
    "df.dropna(inplace=True)\n",
    "df.head()"
   ]
  },
  {
   "cell_type": "markdown",
   "metadata": {},
   "source": [
    "### Split the data to training and validation sets"
   ]
  },
  {
   "cell_type": "code",
   "execution_count": 158,
   "metadata": {},
   "outputs": [
    {
     "data": {
      "text/plain": [
       "((2236, 4), (250, 4))"
      ]
     },
     "execution_count": 158,
     "metadata": {},
     "output_type": "execute_result"
    }
   ],
   "source": [
    "split_index = int(0.9 * df.shape[0]) # 10% of the data will be for validation. This will be last 10% of the rows.\n",
    "df_train = df[(df.index < split_index)]\n",
    "df_test = df[(df.index >= split_index)]\n",
    "\n",
    "df_train.shape, df_test.shape"
   ]
  },
  {
   "cell_type": "markdown",
   "metadata": {},
   "source": [
    "### Scaling and creating sequences\n",
    "Scaling is done after the split to train and validation sets in order to prevent bias."
   ]
  },
  {
   "cell_type": "code",
   "execution_count": 160,
   "metadata": {
    "scrolled": true
   },
   "outputs": [],
   "source": [
    "from sklearn.preprocessing import MinMaxScaler, scale\n",
    "\n",
    "scaler = MinMaxScaler(feature_range=(0,1))\n",
    "\n",
    "def preprocess_df(df):\n",
    "    \"\"\"scale and create sequential data and labels (X,y) to be used by the model\"\"\"\n",
    "    \n",
    "    to_scale = df[[\"Close\", \"Log Returns\", \"Future\"]].values\n",
    "    scaled = scaler.fit_transform(to_scale)\n",
    "    \n",
    "    # create the sequences\n",
    "    sequential_data = []\n",
    "    prev_days = deque(maxlen=SEQ_LEN)  # once it contains maxlen items, the next item added will pop out the first one.\n",
    "    for i in scaled:\n",
    "        prev_days.append(i[:-1])\n",
    "        if len(prev_days) == SEQ_LEN:  # when the deque is full we can create a sequence\n",
    "            sequential_data.append([np.array(prev_days), i[-1]])\n",
    "    \n",
    "    X = []\n",
    "    y = []\n",
    "    \n",
    "    for seq, target in sequential_data:\n",
    "        X.append(seq)\n",
    "        y.append(target)\n",
    "    \n",
    "    return np.array(X), np.array(y)"
   ]
  },
  {
   "cell_type": "markdown",
   "metadata": {},
   "source": [
    "### Create the sets for the model"
   ]
  },
  {
   "cell_type": "code",
   "execution_count": 161,
   "metadata": {},
   "outputs": [],
   "source": [
    "X_train, y_train = preprocess_df(df_train)\n",
    "X_test, y_test = preprocess_df(df_test)"
   ]
  },
  {
   "cell_type": "code",
   "execution_count": 162,
   "metadata": {},
   "outputs": [
    {
     "data": {
      "text/plain": [
       "((2207, 30, 2), (2207,))"
      ]
     },
     "execution_count": 162,
     "metadata": {},
     "output_type": "execute_result"
    }
   ],
   "source": [
    "X_train.shape, y_train.shape\n",
    "# X_test.shape, y_test.shape"
   ]
  },
  {
   "cell_type": "markdown",
   "metadata": {},
   "source": [
    "### Creating the model\n",
    "After a series of changes and trial and error, these are the parameters I chose for the model."
   ]
  },
  {
   "cell_type": "code",
   "execution_count": 236,
   "metadata": {},
   "outputs": [],
   "source": [
    "import tensorflow as tf\n",
    "from tensorflow.keras.models import Sequential\n",
    "from tensorflow.keras.layers import Dense, LSTM\n",
    "\n",
    "EPOCHS = 40\n",
    "BATCH_SIZE = 32"
   ]
  },
  {
   "cell_type": "code",
   "execution_count": 237,
   "metadata": {},
   "outputs": [],
   "source": [
    "model = Sequential()\n",
    "model.add(LSTM(64, return_sequences=True, input_shape=X_train.shape[1:]))\n",
    "model.add(LSTM(64, return_sequences=True))\n",
    "model.add(LSTM(64))\n",
    "model.add(Dense(1))\n",
    "\n",
    "opt = tf.keras.optimizers.Adam(learning_rate=0.0001)\n",
    "model.compile(loss='mean_squared_error', optimizer=opt)"
   ]
  },
  {
   "cell_type": "code",
   "execution_count": 238,
   "metadata": {
    "scrolled": true
   },
   "outputs": [
    {
     "name": "stdout",
     "output_type": "stream",
     "text": [
      "Epoch 1/40\n",
      "69/69 [==============================] - 13s 131ms/step - loss: 0.0159 - val_loss: 0.0171\n",
      "Epoch 2/40\n",
      "69/69 [==============================] - 7s 107ms/step - loss: 0.0025 - val_loss: 0.0166\n",
      "Epoch 3/40\n",
      "69/69 [==============================] - 5s 67ms/step - loss: 0.0023 - val_loss: 0.0151\n",
      "Epoch 4/40\n",
      "69/69 [==============================] - 5s 68ms/step - loss: 0.0022 - val_loss: 0.0150\n",
      "Epoch 5/40\n",
      "69/69 [==============================] - 3s 47ms/step - loss: 0.0021 - val_loss: 0.0147\n",
      "Epoch 6/40\n",
      "69/69 [==============================] - 6s 81ms/step - loss: 0.0019 - val_loss: 0.0153\n",
      "Epoch 7/40\n",
      "69/69 [==============================] - 3s 47ms/step - loss: 0.0018 - val_loss: 0.0147\n",
      "Epoch 8/40\n",
      "69/69 [==============================] - 5s 69ms/step - loss: 0.0017 - val_loss: 0.0153\n",
      "Epoch 9/40\n",
      "69/69 [==============================] - 4s 52ms/step - loss: 0.0016 - val_loss: 0.0156\n",
      "Epoch 10/40\n",
      "69/69 [==============================] - 3s 48ms/step - loss: 0.0015 - val_loss: 0.0142\n",
      "Epoch 11/40\n",
      "69/69 [==============================] - 5s 75ms/step - loss: 0.0014 - val_loss: 0.0133\n",
      "Epoch 12/40\n",
      "69/69 [==============================] - 4s 57ms/step - loss: 0.0013 - val_loss: 0.0127\n",
      "Epoch 13/40\n",
      "69/69 [==============================] - 5s 72ms/step - loss: 0.0012 - val_loss: 0.0139\n",
      "Epoch 14/40\n",
      "69/69 [==============================] - 3s 49ms/step - loss: 0.0012 - val_loss: 0.0140\n",
      "Epoch 15/40\n",
      "69/69 [==============================] - 6s 84ms/step - loss: 0.0011 - val_loss: 0.0137\n",
      "Epoch 16/40\n",
      "69/69 [==============================] - 3s 48ms/step - loss: 0.0011 - val_loss: 0.0114\n",
      "Epoch 17/40\n",
      "69/69 [==============================] - 3s 47ms/step - loss: 0.0011 - val_loss: 0.0134\n",
      "Epoch 18/40\n",
      "69/69 [==============================] - 3s 49ms/step - loss: 0.0012 - val_loss: 0.0106\n",
      "Epoch 19/40\n",
      "69/69 [==============================] - 3s 50ms/step - loss: 0.0010 - val_loss: 0.0116\n",
      "Epoch 20/40\n",
      "69/69 [==============================] - 3s 47ms/step - loss: 9.9860e-04 - val_loss: 0.0129\n",
      "Epoch 21/40\n",
      "69/69 [==============================] - 3s 46ms/step - loss: 9.7125e-04 - val_loss: 0.0117\n",
      "Epoch 22/40\n",
      "69/69 [==============================] - 3s 47ms/step - loss: 9.4098e-04 - val_loss: 0.0120\n",
      "Epoch 23/40\n",
      "69/69 [==============================] - 3s 48ms/step - loss: 9.3762e-04 - val_loss: 0.0106\n",
      "Epoch 24/40\n",
      "69/69 [==============================] - 3s 48ms/step - loss: 9.0854e-04 - val_loss: 0.0138\n",
      "Epoch 25/40\n",
      "69/69 [==============================] - 3s 48ms/step - loss: 9.3269e-04 - val_loss: 0.0110\n",
      "Epoch 26/40\n",
      "69/69 [==============================] - 3s 47ms/step - loss: 8.7472e-04 - val_loss: 0.0095\n",
      "Epoch 27/40\n",
      "69/69 [==============================] - 4s 55ms/step - loss: 8.3342e-04 - val_loss: 0.0109\n",
      "Epoch 28/40\n",
      "69/69 [==============================] - 5s 74ms/step - loss: 7.9349e-04 - val_loss: 0.0129\n",
      "Epoch 29/40\n",
      "69/69 [==============================] - 4s 62ms/step - loss: 8.5605e-04 - val_loss: 0.0104\n",
      "Epoch 30/40\n",
      "69/69 [==============================] - 4s 58ms/step - loss: 7.8756e-04 - val_loss: 0.0077\n",
      "Epoch 31/40\n",
      "69/69 [==============================] - 5s 67ms/step - loss: 8.1288e-04 - val_loss: 0.0090\n",
      "Epoch 32/40\n",
      "69/69 [==============================] - 4s 51ms/step - loss: 7.3045e-04 - val_loss: 0.0081\n",
      "Epoch 33/40\n",
      "69/69 [==============================] - 3s 50ms/step - loss: 7.5656e-04 - val_loss: 0.0093\n",
      "Epoch 34/40\n",
      "69/69 [==============================] - 3s 49ms/step - loss: 6.8824e-04 - val_loss: 0.0099\n",
      "Epoch 35/40\n",
      "69/69 [==============================] - 3s 50ms/step - loss: 6.7317e-04 - val_loss: 0.0111\n",
      "Epoch 36/40\n",
      "69/69 [==============================] - 3s 49ms/step - loss: 7.0514e-04 - val_loss: 0.0108\n",
      "Epoch 37/40\n",
      "69/69 [==============================] - 3s 49ms/step - loss: 6.3816e-04 - val_loss: 0.0078\n",
      "Epoch 38/40\n",
      "69/69 [==============================] - 5s 74ms/step - loss: 6.2880e-04 - val_loss: 0.0098\n",
      "Epoch 39/40\n",
      "69/69 [==============================] - 5s 66ms/step - loss: 6.3269e-04 - val_loss: 0.0078\n",
      "Epoch 40/40\n",
      "69/69 [==============================] - 5s 67ms/step - loss: 6.0319e-04 - val_loss: 0.0064\n"
     ]
    }
   ],
   "source": [
    "history = model.fit(\n",
    "    X_train, y_train,\n",
    "    batch_size=BATCH_SIZE, epochs=EPOCHS,\n",
    "    validation_data=(X_test, y_test))"
   ]
  },
  {
   "cell_type": "markdown",
   "metadata": {},
   "source": [
    "### Analyze performance"
   ]
  },
  {
   "cell_type": "code",
   "execution_count": 467,
   "metadata": {},
   "outputs": [
    {
     "data": {
      "text/plain": [
       "<matplotlib.legend.Legend at 0x168fb25f8>"
      ]
     },
     "execution_count": 467,
     "metadata": {},
     "output_type": "execute_result"
    },
    {
     "data": {
      "image/png": "[encoded data removed]",
      "text/plain": [
       "<Figure size 432x360 with 1 Axes>"
      ]
     },
     "metadata": {
      "needs_background": "light"
     },
     "output_type": "display_data"
    }
   ],
   "source": [
    "fig, ax = plt.subplots(figsize=(6,5))\n",
    "fig.suptitle(\"Model Performance\")\n",
    "\n",
    "ax.plot(\"loss\", data=history.history, label=\"train\")\n",
    "ax.plot(\"val_loss\", data=history.history, label=\"validation\")\n",
    "ax.set_title(\"Loss\")\n",
    "ax.set_xlabel(\"Epoch\")\n",
    "ax.legend(frameon=False)"
   ]
  },
  {
   "cell_type": "code",
   "execution_count": 240,
   "metadata": {},
   "outputs": [],
   "source": [
    "test_predict = model.predict(X_test)"
   ]
  },
  {
   "cell_type": "code",
   "execution_count": 241,
   "metadata": {},
   "outputs": [
    {
     "data": {
      "text/plain": [
       "<matplotlib.legend.Legend at 0x15ca4cf98>"
      ]
     },
     "execution_count": 241,
     "metadata": {},
     "output_type": "execute_result"
    },
    {
     "data": {
      "image/png": "[encoded data removed]",
      "text/plain": [
       "<Figure size 576x360 with 1 Axes>"
      ]
     },
     "metadata": {
      "needs_background": "light"
     },
     "output_type": "display_data"
    }
   ],
   "source": [
    "fig, ax = plt.subplots(figsize=(8,5))\n",
    "\n",
    "ax.plot(test_predict, label=\"prediction\")\n",
    "ax.plot(y_test, label=\"real\")\n",
    "ax.set_title(\"Predicted vs. Real Values (scaled values)\")\n",
    "plt.legend(frameon=False)"
   ]
  },
  {
   "cell_type": "markdown",
   "metadata": {},
   "source": [
    "### Predict price of future dates\n",
    "First lets create a sequence to predict the first day outside of the data - July 10th 2021"
   ]
  },
  {
   "cell_type": "code",
   "execution_count": 365,
   "metadata": {},
   "outputs": [],
   "source": [
    "# a sequence up to last date on the original data - July 9th\n",
    "X = btc_df[[\"Close\", \"Log Returns\"]].iloc[-SEQ_LEN:].values\n",
    "X_scaled = scaler.fit_transform(X)"
   ]
  },
  {
   "cell_type": "code",
   "execution_count": 358,
   "metadata": {},
   "outputs": [],
   "source": [
    "# Predict the price for July 10th\n",
    "july_10_prediction = model.predict(X_scaled.reshape(1,X_scaled.shape[0],X_scaled.shape[1]))"
   ]
  },
  {
   "cell_type": "code",
   "execution_count": 359,
   "metadata": {},
   "outputs": [
    {
     "data": {
      "text/plain": [
       "34100.30022619148"
      ]
     },
     "execution_count": 359,
     "metadata": {},
     "output_type": "execute_result"
    }
   ],
   "source": [
    "# unscale to get the price\n",
    "to_rescale = np.array([[july_10_prediction[0][0], 0]]) # create an object which can be fed to the scaler\n",
    "july_10_prediction = scaler.inverse_transform(to_rescale)[0][0]\n",
    "july_10_prediction"
   ]
  },
  {
   "cell_type": "code",
   "execution_count": 321,
   "metadata": {},
   "outputs": [
    {
     "data": {
      "text/html": [
       "<div>\n",
       "<style scoped>\n",
       "    .dataframe tbody tr th:only-of-type {\n",
       "        vertical-align: middle;\n",
       "    }\n",
       "\n",
       "    .dataframe tbody tr th {\n",
       "        vertical-align: top;\n",
       "    }\n",
       "\n",
       "    .dataframe thead th {\n",
       "        text-align: right;\n",
       "    }\n",
       "</style>\n",
       "<table border=\"1\" class=\"dataframe\">\n",
       "  <thead>\n",
       "    <tr style=\"text-align: right;\">\n",
       "      <th></th>\n",
       "      <th>Date</th>\n",
       "      <th>Close</th>\n",
       "      <th>Volume</th>\n",
       "    </tr>\n",
       "  </thead>\n",
       "  <tbody>\n",
       "    <tr>\n",
       "      <th>0</th>\n",
       "      <td>2021-07-09</td>\n",
       "      <td>33798.011719</td>\n",
       "      <td>27436021028</td>\n",
       "    </tr>\n",
       "    <tr>\n",
       "      <th>1</th>\n",
       "      <td>2021-07-10</td>\n",
       "      <td>33520.519531</td>\n",
       "      <td>22971873468</td>\n",
       "    </tr>\n",
       "    <tr>\n",
       "      <th>2</th>\n",
       "      <td>2021-07-11</td>\n",
       "      <td>34240.187500</td>\n",
       "      <td>20108729370</td>\n",
       "    </tr>\n",
       "    <tr>\n",
       "      <th>3</th>\n",
       "      <td>2021-07-12</td>\n",
       "      <td>33155.847656</td>\n",
       "      <td>24321499537</td>\n",
       "    </tr>\n",
       "    <tr>\n",
       "      <th>4</th>\n",
       "      <td>2021-07-13</td>\n",
       "      <td>32702.025391</td>\n",
       "      <td>19120856669</td>\n",
       "    </tr>\n",
       "  </tbody>\n",
       "</table>\n",
       "</div>"
      ],
      "text/plain": [
       "         Date         Close       Volume\n",
       "0  2021-07-09  33798.011719  27436021028\n",
       "1  2021-07-10  33520.519531  22971873468\n",
       "2  2021-07-11  34240.187500  20108729370\n",
       "3  2021-07-12  33155.847656  24321499537\n",
       "4  2021-07-13  32702.025391  19120856669"
      ]
     },
     "execution_count": 321,
     "metadata": {},
     "output_type": "execute_result"
    }
   ],
   "source": [
    "# New data of BTC-USD for dates not in the previous dataset\n",
    "new_df = pd.read_csv(\"BTC-USD_new.csv\")\n",
    "new_df.drop([\"Open\", \"High\", \"Low\", \"Adj Close\"], axis=1, inplace=True)\n",
    "new_df.head()"
   ]
  },
  {
   "cell_type": "code",
   "execution_count": 469,
   "metadata": {},
   "outputs": [
    {
     "data": {
      "text/plain": [
       "0.01729629204151495"
      ]
     },
     "execution_count": 469,
     "metadata": {},
     "output_type": "execute_result"
    }
   ],
   "source": [
    "july_10_prediction/new_df.iloc[1,1] - 1"
   ]
  },
  {
   "cell_type": "markdown",
   "metadata": {},
   "source": [
    "So the predicted value is pretty close, however the model predicted an increase in price, while it actually decreased."
   ]
  },
  {
   "cell_type": "markdown",
   "metadata": {},
   "source": [
    "## Predicting the close prices of new data\n",
    "\n",
    "\n",
    "### 1. Based on predicted values (unsupervised)\n",
    "Let's have the model predict the close prices of all the new dates. \n",
    "We'll use the sequence that was created for predicting the close price of July 10th. On every iteration we'll have the model predict a new value, and replace the \"oldest\" value in the sequence with the predicted value to create a new sequence."
   ]
  },
  {
   "cell_type": "code",
   "execution_count": 362,
   "metadata": {},
   "outputs": [],
   "source": [
    "def predict_ahead(num_of_days_ahead, first_seq):\n",
    "    \n",
    "    seq = first_seq.copy()\n",
    "    predicted_values = []\n",
    "    # add a real close price of the last date on the old df to compute the first Log Return.\n",
    "    predicted_values.append(new_df.loc[0, \"Close\"])\n",
    "    \n",
    "    for i in range(num_of_days_ahead):\n",
    "        scaled_value, value = predict_and_unscale(seq)\n",
    "        \n",
    "        # Compute Log return\n",
    "        log_return = np.log(value/predicted_values[i])\n",
    "        \n",
    "        # add [scaled_value, log_return] to end of the seq (keeping it the same size)\n",
    "        seq = np.roll(seq, -1, axis=0)  # example: [1,2,3,4] --> [2,3,4,1]\n",
    "        seq[-1] = [scaled_value, log_return]\n",
    "        \n",
    "        predicted_values.append(value)\n",
    "        \n",
    "    return predicted_values\n",
    "\n",
    "\n",
    "def predict_and_unscale(seq):\n",
    "    \"\"\"use the model to predict on the seq. return scaled and unscaled predicted values\"\"\"\n",
    "    \n",
    "    scaled_value = model.predict(seq.reshape(1,seq.shape[0],seq.shape[1]))\n",
    "    to_rescale = np.array([[scaled_value[0][0], 0]])\n",
    "    unscaled_value = scaler.inverse_transform(to_rescale)[0][0]\n",
    "    \n",
    "    return scaled_value, unscaled_value"
   ]
  },
  {
   "cell_type": "code",
   "execution_count": 366,
   "metadata": {},
   "outputs": [],
   "source": [
    "new_df[\"Predicted Values\"] = predict_ahead(new_df.shape[0]-1, X_scaled)"
   ]
  },
  {
   "cell_type": "markdown",
   "metadata": {},
   "source": [
    "### 2. Add supervised prediction on these dates\n",
    "Use real data to create the sequences and predict the new dates' close prices"
   ]
  },
  {
   "cell_type": "code",
   "execution_count": 455,
   "metadata": {},
   "outputs": [],
   "source": [
    "joined_df =pd.concat([pd.read_csv(\"BTC-USD.csv\"), pd.read_csv(\"BTC-USD_new.csv\").iloc[1:,:]], ignore_index=True)\n",
    "\n",
    "joined_df[\"Price Returns\"] = joined_df[\"Close\"].pct_change()\n",
    "joined_df[\"Log Returns\"] = np.log(1 + joined_df[\"Price Returns\"])\n",
    "joined_df.tail()\n",
    "\n",
    "\n",
    "def create_sequences(X_scaled):\n",
    "    \"\"\"create sequences for the model out of a given scaled set.\"\"\"\n",
    "\n",
    "    sequential_data = []\n",
    "    prev_days = deque(maxlen=SEQ_LEN)\n",
    "    for i in X_scaled:\n",
    "        prev_days.append(i)\n",
    "        if len(prev_days) == SEQ_LEN:\n",
    "            sequential_data.append(np.array(prev_days))\n",
    "    \n",
    "    X = []\n",
    "    \n",
    "    for seq in sequential_data:\n",
    "        X.append(seq)\n",
    "    \n",
    "    return np.array(X)\n",
    "\n",
    "\n",
    "# get only relevant data to create the new sequences, and scale it\n",
    "new_data_scaler = MinMaxScaler()\n",
    "new_scaled_X = new_data_scaler.fit_transform(\n",
    "    joined_df.iloc[-(SEQ_LEN + new_df.shape[0]):][[\"Close\", \"Log Returns\"]].values)\n",
    "\n",
    "new_X_test = create_sequences(new_scaled_X)\n",
    "\n",
    "# use model to get predictions on new data\n",
    "new_data_predictions = model.predict(new_X_test)\n",
    "\n",
    "# unscale. need to reshape.\n",
    "unscaled_new_data_predictions = new_data_scaler.inverse_transform(\n",
    "    np.array([[x[0],0] for x in new_data_predictions]))\n",
    "\n",
    "new_predicted_values = [x[0] for x in unscaled_new_data_predictions]\n",
    "new_df[\"Supervised Predictions\"] = new_predicted_values[:-1]"
   ]
  },
  {
   "cell_type": "markdown",
   "metadata": {},
   "source": [
    "### Add a random \"baseline\"\n",
    "\n",
    "Let's add another \"predicted\" price column, to be our baseline, which will be a random prediction.\n",
    "The formula will be:\n",
    "$ P_{i+1} = P_i + P_i \\times r_i$\n",
    "where P is the price, and r is a normal distributed random variable, with mean and stdev as the mean and stdev of the real returns.\n",
    "\n",
    "The goal is that the model will perform just a little bit better than a random walk."
   ]
  },
  {
   "cell_type": "code",
   "execution_count": 456,
   "metadata": {},
   "outputs": [
    {
     "data": {
      "text/html": [
       "<div>\n",
       "<style scoped>\n",
       "    .dataframe tbody tr th:only-of-type {\n",
       "        vertical-align: middle;\n",
       "    }\n",
       "\n",
       "    .dataframe tbody tr th {\n",
       "        vertical-align: top;\n",
       "    }\n",
       "\n",
       "    .dataframe thead th {\n",
       "        text-align: right;\n",
       "    }\n",
       "</style>\n",
       "<table border=\"1\" class=\"dataframe\">\n",
       "  <thead>\n",
       "    <tr style=\"text-align: right;\">\n",
       "      <th></th>\n",
       "      <th>Date</th>\n",
       "      <th>Close</th>\n",
       "      <th>Volume</th>\n",
       "      <th>Predicted Values</th>\n",
       "      <th>Returns</th>\n",
       "      <th>Random Close</th>\n",
       "      <th>Supervised Predictions</th>\n",
       "    </tr>\n",
       "  </thead>\n",
       "  <tbody>\n",
       "    <tr>\n",
       "      <th>0</th>\n",
       "      <td>2021-07-09</td>\n",
       "      <td>33798.011719</td>\n",
       "      <td>27436021028</td>\n",
       "      <td>33798.011719</td>\n",
       "      <td>NaN</td>\n",
       "      <td>33798.011719</td>\n",
       "      <td>34131.878983</td>\n",
       "    </tr>\n",
       "    <tr>\n",
       "      <th>1</th>\n",
       "      <td>2021-07-10</td>\n",
       "      <td>33520.519531</td>\n",
       "      <td>22971873468</td>\n",
       "      <td>34100.300226</td>\n",
       "      <td>-0.008210</td>\n",
       "      <td>31802.227698</td>\n",
       "      <td>33954.082908</td>\n",
       "    </tr>\n",
       "    <tr>\n",
       "      <th>2</th>\n",
       "      <td>2021-07-11</td>\n",
       "      <td>34240.187500</td>\n",
       "      <td>20108729370</td>\n",
       "      <td>33880.763357</td>\n",
       "      <td>0.021469</td>\n",
       "      <td>32720.404870</td>\n",
       "      <td>33781.538951</td>\n",
       "    </tr>\n",
       "    <tr>\n",
       "      <th>3</th>\n",
       "      <td>2021-07-12</td>\n",
       "      <td>33155.847656</td>\n",
       "      <td>24321499537</td>\n",
       "      <td>33597.975348</td>\n",
       "      <td>-0.031669</td>\n",
       "      <td>33234.768112</td>\n",
       "      <td>33666.295685</td>\n",
       "    </tr>\n",
       "    <tr>\n",
       "      <th>4</th>\n",
       "      <td>2021-07-13</td>\n",
       "      <td>32702.025391</td>\n",
       "      <td>19120856669</td>\n",
       "      <td>33292.701811</td>\n",
       "      <td>-0.013688</td>\n",
       "      <td>32014.469001</td>\n",
       "      <td>33540.102233</td>\n",
       "    </tr>\n",
       "  </tbody>\n",
       "</table>\n",
       "</div>"
      ],
      "text/plain": [
       "         Date         Close       Volume  Predicted Values   Returns  \\\n",
       "0  2021-07-09  33798.011719  27436021028      33798.011719       NaN   \n",
       "1  2021-07-10  33520.519531  22971873468      34100.300226 -0.008210   \n",
       "2  2021-07-11  34240.187500  20108729370      33880.763357  0.021469   \n",
       "3  2021-07-12  33155.847656  24321499537      33597.975348 -0.031669   \n",
       "4  2021-07-13  32702.025391  19120856669      33292.701811 -0.013688   \n",
       "\n",
       "   Random Close  Supervised Predictions  \n",
       "0  33798.011719            34131.878983  \n",
       "1  31802.227698            33954.082908  \n",
       "2  32720.404870            33781.538951  \n",
       "3  33234.768112            33666.295685  \n",
       "4  32014.469001            33540.102233  "
      ]
     },
     "execution_count": 456,
     "metadata": {},
     "output_type": "execute_result"
    }
   ],
   "source": [
    "new_df[\"Returns\"] = new_df[\"Close\"].pct_change()\n",
    "\n",
    "\n",
    "def add_rand_close_col(df):\n",
    "    mu, sigma = df[\"Returns\"].mean(), df[\"Returns\"].std()\n",
    "    rand_returns = np.random.normal(mu, sigma, df.shape[0])\n",
    "    rand_close = []\n",
    "    rand_close.append(df.iloc[0][\"Close\"]) # the first value is real, not random.\n",
    "    for i in range(1, df.shape[0]):\n",
    "        rand_close.append(rand_close[i-1] + rand_close[i-1] * rand_returns[i])\n",
    "    \n",
    "    df[\"Random Close\"] = np.array(rand_close)\n",
    "\n",
    "add_rand_close_col(new_df)\n",
    "new_df.head()"
   ]
  },
  {
   "cell_type": "markdown",
   "metadata": {},
   "source": [
    "### Put it all together on a graph"
   ]
  },
  {
   "cell_type": "code",
   "execution_count": 464,
   "metadata": {},
   "outputs": [
    {
     "data": {
      "text/plain": [
       "<matplotlib.legend.Legend at 0x16882ee10>"
      ]
     },
     "execution_count": 464,
     "metadata": {},
     "output_type": "execute_result"
    },
    {
     "data": {
      "image/png": "[encoded data removed]",
      "text/plain": [
       "<Figure size 576x360 with 1 Axes>"
      ]
     },
     "metadata": {
      "needs_background": "light"
     },
     "output_type": "display_data"
    }
   ],
   "source": [
    "fig, ax = plt.subplots(figsize=(8,5))\n",
    "\n",
    "ax.plot(\"Close\", data=new_df, label=\"Real Price\")\n",
    "ax.plot(\"Predicted Values\", data=new_df, label=\"Unsupervised Predicted Price\", alpha=0.7)\n",
    "ax.plot(\"Supervised Predictions\", data=new_df, label=\"Supervised Predicted Price\", alpha=0.5)\n",
    "ax.plot(\"Random Close\", data=new_df, label=\"Random Prediction\", alpha=0.5)\n",
    "ax.legend(frameon=False)"
   ]
  },
  {
   "cell_type": "code",
   "execution_count": 458,
   "metadata": {},
   "outputs": [
    {
     "data": {
      "text/plain": [
       "(5820.127078027844, 3083.8552150169717, 5383.7777201489625)"
      ]
     },
     "execution_count": 458,
     "metadata": {},
     "output_type": "execute_result"
    }
   ],
   "source": [
    "from sklearn.metrics import mean_squared_error\n",
    "\n",
    "root_mse_unsup = np.sqrt(mean_squared_error(new_df[\"Close\"], new_df[\"Predicted Values\"]))\n",
    "root_mse_supervised = np.sqrt(mean_squared_error(new_df[\"Close\"], new_df[\"Supervised Predictions\"]))\n",
    "root_mse_rand = np.sqrt(mean_squared_error(new_df[\"Close\"], new_df[\"Random Close\"]))\n",
    "\n",
    "\n",
    "root_mse_unsup, root_mse_supervised, root_mse_rand"
   ]
  },
  {
   "cell_type": "markdown",
   "metadata": {},
   "source": [
    "We did it! the model performed (much) better on the data than the random prediction did. Of course that relates to predicting only one day ahead using real data for the previous days.\n",
    "\n",
    "The other version performed good for sometime, and poorly afterwards (which was somwhat expected).\n",
    "\n",
    "A different approach to predict n days ahead could be to train n models, each to predict $1 \\leq i \\leq n$ days ahead.\n",
    "This could be achieve rather easily with this code - we'll just have to change the prameter FUTURE_PERIOD_PREDICT and run it from the start."
   ]
  }
 ],
 "metadata": {
  "kernelspec": {
   "display_name": "Python 3",
   "language": "python",
   "name": "python3"
  },
  "language_info": {
   "codemirror_mode": {
    "name": "ipython",
    "version": 3
   },
   "file_extension": ".py",
   "mimetype": "text/x-python",
   "name": "python",
   "nbconvert_exporter": "python",
   "pygments_lexer": "ipython3",
   "version": "3.7.2"
  }
 },
 "nbformat": 4,
 "nbformat_minor": 2
}
